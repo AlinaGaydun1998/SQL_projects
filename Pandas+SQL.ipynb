{
 "cells": [
  {
   "cell_type": "code",
   "execution_count": 1,
   "id": "70d5e6d4-a814-4a11-b265-c1f914101051",
   "metadata": {},
   "outputs": [
    {
     "name": "stdout",
     "output_type": "stream",
     "text": [
      "Requirement already satisfied: mysql-connector-python in /opt/anaconda3/lib/python3.12/site-packages (9.0.0)\n"
     ]
    }
   ],
   "source": [
    "!pip install  mysql-connector-python"
   ]
  },
  {
   "cell_type": "code",
   "execution_count": 2,
   "id": "13645ad8-2c16-4a38-8034-33929c822ec9",
   "metadata": {},
   "outputs": [],
   "source": [
    "# Importing necessary libraries\n",
    "import datetime\n",
    "import warnings\n",
    "\n",
    "import matplotlib.pyplot as plt\n",
    "import mysql.connector\n",
    "from mysql.connector.connection import MySQLConnection\n",
    "import pandas as pd\n",
    "\n",
    "warnings.filterwarnings('ignore')"
   ]
  },
  {
   "cell_type": "code",
   "execution_count": 3,
   "id": "f9841ab0-72aa-4ba3-92f0-056ad45df081",
   "metadata": {},
   "outputs": [],
   "source": [
    "# Creating a connecting to database\n",
    "con = mysql.connector.connect(user='', password='',\n",
    "                             host='', \n",
    "                             database='employees')"
   ]
  },
  {
   "cell_type": "markdown",
   "id": "903e8e5c-eb8a-404e-8488-89d7d884f246",
   "metadata": {},
   "source": [
    "#### 1. Find the maximum and minimum dates for hiring employees"
   ]
  },
  {
   "cell_type": "code",
   "execution_count": 5,
   "id": "4f6d1282-f8a6-4435-ac49-812d7a05ac90",
   "metadata": {},
   "outputs": [],
   "source": [
    "# Set a cursor to interact with the database\n",
    "cursor = con.cursor() "
   ]
  },
  {
   "cell_type": "code",
   "execution_count": 6,
   "id": "4088d389-701e-42d6-b0a7-9b2357ff967f",
   "metadata": {},
   "outputs": [],
   "source": [
    "# SQL query to retrieve the maximum and minimum hire dates from the employees table\n",
    "sql = \"\"\"\n",
    "SELECT max(hire_date), min(hire_date)\n",
    "FROM employees\n",
    "\"\"\""
   ]
  },
  {
   "cell_type": "code",
   "execution_count": 7,
   "id": "37509b84-7c2d-4b8b-bfaa-211d7e6c1969",
   "metadata": {},
   "outputs": [
    {
     "data": {
      "text/plain": [
       "[(datetime.date(2000, 1, 28), datetime.date(1985, 1, 1))]"
      ]
     },
     "execution_count": 7,
     "metadata": {},
     "output_type": "execute_result"
    }
   ],
   "source": [
    "# Execute the SQL query using the cursor\n",
    "cursor.execute(sql)\n",
    "\n",
    "# Fetch all rows of the result and output them\n",
    "cursor.fetchall()"
   ]
  },
  {
   "cell_type": "markdown",
   "id": "80bc65a8-5576-4719-9863-a3d512322956",
   "metadata": {},
   "source": [
    "#### 2. We aim to retrieve the most recent salary information for each employee in the database.\n",
    "\n",
    "Key Considerations:\n",
    "\n",
    "1. Salaries can be updated multiple times within the same day. For example, an employee may have a salary update on a specific day, such as 2001-01-01, followed by another update on the same day. The query must account for these cases.\n",
    "2. Salary values can decrease over time. Therefore, selecting the salary with the maximum value for a given date is incorrect from a business logic perspective.\n",
    "3. The query should accurately reflect the latest historical salary value for each employee.\n",
    "\n",
    "This ensures the output represents the correct and most recent salary data for all employees in the database."
   ]
  },
  {
   "cell_type": "code",
   "execution_count": 9,
   "id": "b4f4507b-cff7-41ab-8863-3d62932c4f4d",
   "metadata": {},
   "outputs": [],
   "source": [
    "# Set the cursor again\n",
    "cursor = con.cursor()"
   ]
  },
  {
   "cell_type": "code",
   "execution_count": 10,
   "id": "9cb505f0-bf88-4571-bc31-ff0d11223b9c",
   "metadata": {},
   "outputs": [],
   "source": [
    "# SQL query to retrieve info about l\n",
    "sql_last_salary = \"\"\"\n",
    "SELECT emp_no, \n",
    "       salary, \n",
    "       from_date, \n",
    "       to_date\n",
    "FROM employees.salaries s1\n",
    "WHERE to_date = (\n",
    "    SELECT MAX(s2.to_date)\n",
    "    FROM employees.salaries s2\n",
    "    WHERE s1.emp_no = s2.emp_no\n",
    ");\n",
    "\"\"\""
   ]
  },
  {
   "cell_type": "code",
   "execution_count": 11,
   "id": "d4a3ef2d-8b61-4af6-b79e-e594b699dab1",
   "metadata": {},
   "outputs": [
    {
     "name": "stdout",
     "output_type": "stream",
     "text": [
      "Columns name: Index(['emp_no', 'salary', 'from_date', 'to_date'], dtype='object')\n",
      "Shape of DataFrame: (300180, 4)\n"
     ]
    },
    {
     "data": {
      "text/html": [
       "<div>\n",
       "<style scoped>\n",
       "    .dataframe tbody tr th:only-of-type {\n",
       "        vertical-align: middle;\n",
       "    }\n",
       "\n",
       "    .dataframe tbody tr th {\n",
       "        vertical-align: top;\n",
       "    }\n",
       "\n",
       "    .dataframe thead th {\n",
       "        text-align: right;\n",
       "    }\n",
       "</style>\n",
       "<table border=\"1\" class=\"dataframe\">\n",
       "  <thead>\n",
       "    <tr style=\"text-align: right;\">\n",
       "      <th></th>\n",
       "      <th>emp_no</th>\n",
       "      <th>salary</th>\n",
       "      <th>from_date</th>\n",
       "      <th>to_date</th>\n",
       "    </tr>\n",
       "  </thead>\n",
       "  <tbody>\n",
       "    <tr>\n",
       "      <th>0</th>\n",
       "      <td>10001</td>\n",
       "      <td>88958</td>\n",
       "      <td>2002-06-22</td>\n",
       "      <td>9999-01-01</td>\n",
       "    </tr>\n",
       "    <tr>\n",
       "      <th>1</th>\n",
       "      <td>10002</td>\n",
       "      <td>72527</td>\n",
       "      <td>2001-08-02</td>\n",
       "      <td>9999-01-01</td>\n",
       "    </tr>\n",
       "    <tr>\n",
       "      <th>2</th>\n",
       "      <td>10003</td>\n",
       "      <td>43311</td>\n",
       "      <td>2001-12-01</td>\n",
       "      <td>9999-01-01</td>\n",
       "    </tr>\n",
       "  </tbody>\n",
       "</table>\n",
       "</div>"
      ],
      "text/plain": [
       "   emp_no  salary   from_date     to_date\n",
       "0   10001   88958  2002-06-22  9999-01-01\n",
       "1   10002   72527  2001-08-02  9999-01-01\n",
       "2   10003   43311  2001-12-01  9999-01-01"
      ]
     },
     "metadata": {},
     "output_type": "display_data"
    }
   ],
   "source": [
    "# Execute the SQL query using the cursor\n",
    "cursor.execute(sql_last_salary)\n",
    "\n",
    "# Convert the fetched data from the cursor into a pandas DataFrame\n",
    "res = pd.DataFrame(\n",
    "    cursor.fetchall(),  # Fetch all rows from the executed SQL query\n",
    "    columns=('emp_no', 'salary', 'from_date', 'to_date')  # Define column names \n",
    ")\n",
    "\n",
    "# Extract the field names (column names) from the cursor description\n",
    "field_names = [i[0] for i in cursor.description] \n",
    "\n",
    "# Display the DataFrame's column names, shape (rows and columns), and the first 3 rows\n",
    "print(f'Columns name: {res.columns}')\n",
    "print(f'Shape of DataFrame: {res.shape}') \n",
    "display(res[:3])"
   ]
  },
  {
   "cell_type": "markdown",
   "id": "5db1fb84-6bb7-450f-bc52-8d39e479d0b2",
   "metadata": {},
   "source": [
    "#### 3. Find in the res variable how many values to_date are equal to 9999-01-01 and how many are not? "
   ]
  },
  {
   "cell_type": "code",
   "execution_count": 13,
   "id": "f84cd370-8b73-417a-866e-a2c6f2460ff9",
   "metadata": {},
   "outputs": [
    {
     "data": {
      "text/plain": [
       "emp_no        int64\n",
       "salary        int64\n",
       "from_date    object\n",
       "to_date      object\n",
       "dtype: object"
      ]
     },
     "execution_count": 13,
     "metadata": {},
     "output_type": "execute_result"
    }
   ],
   "source": [
    "res.dtypes"
   ]
  },
  {
   "cell_type": "code",
   "execution_count": 14,
   "id": "bf665de3-3171-4d5a-be4c-8b20534fb584",
   "metadata": {},
   "outputs": [
    {
     "data": {
      "text/plain": [
       "datetime.date(9999, 1, 1)"
      ]
     },
     "execution_count": 14,
     "metadata": {},
     "output_type": "execute_result"
    }
   ],
   "source": [
    "res.to_date[0]"
   ]
  },
  {
   "cell_type": "code",
   "execution_count": 15,
   "id": "d6c62442-aa88-46aa-b0e1-31f26f8e8a4c",
   "metadata": {},
   "outputs": [
    {
     "name": "stdout",
     "output_type": "stream",
     "text": [
      "240124 records have to_date equal to 9999-01-01\n",
      "60056 records have to_date not equal to 9999-01-01\n",
      "Number of employees still working: 240124\n"
     ]
    }
   ],
   "source": [
    "# Filter rows where the 'to_date' column equals '9999-01-01' (indicating current employees)\n",
    "filter = res.to_date == datetime.date(9999, 1, 1)\n",
    "\n",
    "# Create a DataFrame containing only rows for employees still working (to_date = '9999-01-01')\n",
    "working_staff = res[filter]\n",
    "\n",
    "# Print the count of rows where 'to_date' equals '9999-01-01'\n",
    "print(f'{working_staff.to_date.count()} records have to_date equal to 9999-01-01')\n",
    "\n",
    "# Filter rows where 'to_date' is NOT equal to '9999-01-01'\n",
    "filter1 = res.to_date != datetime.date(9999, 1, 1)\n",
    "\n",
    "# Print the count of rows where 'to_date' does NOT equal '9999-01-01'\n",
    "print(f'{res[filter1].to_date.count()} records have to_date not equal to 9999-01-01')\n",
    "\n",
    "# Print the total number of employees who are still working\n",
    "print(f\"Number of employees still working: {len(working_staff)}\")"
   ]
  },
  {
   "cell_type": "markdown",
   "id": "b4c57086-edb7-48d2-b08c-2bf1dbb60c72",
   "metadata": {},
   "source": [
    "#### 4. Visualize the distribution (histogram) of salaries of employees who are still working in the company, using the result of the previous task. Employees who are still working in the company are those whose to_date is 9999-01-01. "
   ]
  },
  {
   "cell_type": "code",
   "execution_count": 17,
   "id": "e09edb5c-7a54-482f-ad9f-d49278ab6260",
   "metadata": {},
   "outputs": [
    {
     "data": {
      "image/png": "[encoded data removed]",
      "text/plain": [
       "<Figure size 1000x800 with 1 Axes>"
      ]
     },
     "metadata": {},
     "output_type": "display_data"
    }
   ],
   "source": [
    "# Create a histogram to visualize the salary distribution of currently employed staff\n",
    "working_staff['salary'].hist(\n",
    "    figsize=(10, 8),  # Set the size of the plot (width, height)\n",
    "    bins=20,          # Divide the salary range into 20 bins\n",
    "    color='yellow',   # Set the color of the bars to yellow\n",
    "    edgecolor='black' # Add black edges to the bars for better visibility\n",
    ")\n",
    "\n",
    "# Add a title to the histogram\n",
    "plt.title('Salary distribution for employees still working for the company')\n",
    "\n",
    "# Label the x-axis with 'Зарплата' to indicate the salary range\n",
    "plt.xlabel('Salary')\n",
    "\n",
    "# Label the y-axis with 'Кількість працівників' to show the number of employees in each bin\n",
    "plt.ylabel('Employees');"
   ]
  },
  {
   "cell_type": "markdown",
   "id": "45522dce-727d-472c-8154-837a7a265f7c",
   "metadata": {},
   "source": [
    "#### 5. Display the number of employees using pandas.read_sql by the year in which they were hired (hire_date). "
   ]
  },
  {
   "cell_type": "code",
   "execution_count": 19,
   "id": "b7cc0119-59f7-421c-ad5a-d06e30277ae4",
   "metadata": {},
   "outputs": [],
   "source": [
    "# SQL query to find employees number by hire year\n",
    "employees_year = \"\"\"\n",
    "SELECT YEAR(hire_date)  as hire_year, \n",
    "        COUNT(emp_no) as amount_employees \n",
    "FROM employees \n",
    "GROUP BY YEAR(hire_date)\n",
    "ORDER BY hire_year ASC\n",
    "\"\"\""
   ]
  },
  {
   "cell_type": "code",
   "execution_count": 20,
   "id": "49ebb439-8e77-45df-8d1c-534c1261130f",
   "metadata": {},
   "outputs": [
    {
     "data": {
      "text/html": [
       "<div>\n",
       "<style scoped>\n",
       "    .dataframe tbody tr th:only-of-type {\n",
       "        vertical-align: middle;\n",
       "    }\n",
       "\n",
       "    .dataframe tbody tr th {\n",
       "        vertical-align: top;\n",
       "    }\n",
       "\n",
       "    .dataframe thead th {\n",
       "        text-align: right;\n",
       "    }\n",
       "</style>\n",
       "<table border=\"1\" class=\"dataframe\">\n",
       "  <thead>\n",
       "    <tr style=\"text-align: right;\">\n",
       "      <th></th>\n",
       "      <th>hire_year</th>\n",
       "      <th>amount_employees</th>\n",
       "    </tr>\n",
       "  </thead>\n",
       "  <tbody>\n",
       "    <tr>\n",
       "      <th>0</th>\n",
       "      <td>1985</td>\n",
       "      <td>35316</td>\n",
       "    </tr>\n",
       "    <tr>\n",
       "      <th>1</th>\n",
       "      <td>1986</td>\n",
       "      <td>36150</td>\n",
       "    </tr>\n",
       "    <tr>\n",
       "      <th>2</th>\n",
       "      <td>1987</td>\n",
       "      <td>33501</td>\n",
       "    </tr>\n",
       "    <tr>\n",
       "      <th>3</th>\n",
       "      <td>1988</td>\n",
       "      <td>31436</td>\n",
       "    </tr>\n",
       "    <tr>\n",
       "      <th>4</th>\n",
       "      <td>1989</td>\n",
       "      <td>28394</td>\n",
       "    </tr>\n",
       "    <tr>\n",
       "      <th>5</th>\n",
       "      <td>1990</td>\n",
       "      <td>25610</td>\n",
       "    </tr>\n",
       "    <tr>\n",
       "      <th>6</th>\n",
       "      <td>1991</td>\n",
       "      <td>22568</td>\n",
       "    </tr>\n",
       "    <tr>\n",
       "      <th>7</th>\n",
       "      <td>1992</td>\n",
       "      <td>20402</td>\n",
       "    </tr>\n",
       "    <tr>\n",
       "      <th>8</th>\n",
       "      <td>1993</td>\n",
       "      <td>17772</td>\n",
       "    </tr>\n",
       "    <tr>\n",
       "      <th>9</th>\n",
       "      <td>1994</td>\n",
       "      <td>14835</td>\n",
       "    </tr>\n",
       "    <tr>\n",
       "      <th>10</th>\n",
       "      <td>1995</td>\n",
       "      <td>12115</td>\n",
       "    </tr>\n",
       "    <tr>\n",
       "      <th>11</th>\n",
       "      <td>1996</td>\n",
       "      <td>9574</td>\n",
       "    </tr>\n",
       "    <tr>\n",
       "      <th>12</th>\n",
       "      <td>1997</td>\n",
       "      <td>6669</td>\n",
       "    </tr>\n",
       "    <tr>\n",
       "      <th>13</th>\n",
       "      <td>1998</td>\n",
       "      <td>4155</td>\n",
       "    </tr>\n",
       "    <tr>\n",
       "      <th>14</th>\n",
       "      <td>1999</td>\n",
       "      <td>1514</td>\n",
       "    </tr>\n",
       "    <tr>\n",
       "      <th>15</th>\n",
       "      <td>2000</td>\n",
       "      <td>13</td>\n",
       "    </tr>\n",
       "  </tbody>\n",
       "</table>\n",
       "</div>"
      ],
      "text/plain": [
       "    hire_year  amount_employees\n",
       "0        1985             35316\n",
       "1        1986             36150\n",
       "2        1987             33501\n",
       "3        1988             31436\n",
       "4        1989             28394\n",
       "5        1990             25610\n",
       "6        1991             22568\n",
       "7        1992             20402\n",
       "8        1993             17772\n",
       "9        1994             14835\n",
       "10       1995             12115\n",
       "11       1996              9574\n",
       "12       1997              6669\n",
       "13       1998              4155\n",
       "14       1999              1514\n",
       "15       2000                13"
      ]
     },
     "execution_count": 20,
     "metadata": {},
     "output_type": "execute_result"
    }
   ],
   "source": [
    "# Write the sql query results to the df variable\n",
    "df = pd.read_sql(employees_year, con)\n",
    "df"
   ]
  },
  {
   "cell_type": "markdown",
   "id": "80da0a9a-d6f1-4add-86d5-00f2e5be6830",
   "metadata": {},
   "source": [
    "#### 6. Draw a linear graph of the relation between the number of employees and the year of hiring."
   ]
  },
  {
   "cell_type": "code",
   "execution_count": 22,
   "id": "de7b87d3-7655-45ea-8637-424dad2ccf7d",
   "metadata": {},
   "outputs": [
    {
     "data": {
      "image/png": "[encoded data removed]",
      "text/plain": [
       "<Figure size 800x500 with 1 Axes>"
      ]
     },
     "metadata": {},
     "output_type": "display_data"
    }
   ],
   "source": [
    "# Plotting the number of hired employees over the years using a line chart\n",
    "df.plot(\n",
    "    'hire_year',             # Column for the x-axis (year of hire)\n",
    "    'amount_employees',      # Column for the y-axis (number of employees hired)\n",
    "    figsize=(8, 5)           # Set the size of the plot (width=8, height=5)\n",
    ")\n",
    "\n",
    "# Adding a title to the plot to describe what it represents\n",
    "plt.title('Number of employees by year')\n",
    "\n",
    "# Labeling the x-axis with 'Рік найму' to indicate it represents the hiring year\n",
    "plt.xlabel('Hire year')\n",
    "\n",
    "# Labeling the y-axis with 'Кількість найманих працівників' to show the number of employees hired\n",
    "plt.ylabel('Number of hired employees');"
   ]
  },
  {
   "cell_type": "markdown",
   "id": "9b339c85-fd70-48ca-8b00-74848c9cabf1",
   "metadata": {},
   "source": [
    "#### We see a downward trend in hiring new employees every year. This may be due to either migration between departments or long tenure in the company, which indicates a good company policy towards its employees."
   ]
  },
  {
   "cell_type": "markdown",
   "id": "42895721-e82b-4c6b-9b45-bb45814ae3e5",
   "metadata": {},
   "source": [
    "#### 7.Using SQL, for employees in the Engineer position who no longer work in the company (that is, they have a to_date value that is not filled with the default value), find the number of full years in the position. "
   ]
  },
  {
   "cell_type": "code",
   "execution_count": 25,
   "id": "ca9cd299-5351-43ca-b3cf-764bb761d161",
   "metadata": {},
   "outputs": [],
   "source": [
    "# SQL query for finding the number of working years for those employees who no longer work in the company\n",
    "eng_diff_year = \"\"\"\n",
    "SELECT \n",
    "    emp_no,\n",
    "    from_date,\n",
    "    to_date,\n",
    "    TIMESTAMPDIFF (YEAR, from_date, to_date) as work_year\n",
    "FROM titles \n",
    "WHERE title = \"Engineer\" AND to_date != \"9999-01-01\"\n",
    "\"\"\""
   ]
  },
  {
   "cell_type": "code",
   "execution_count": 26,
   "id": "717ecca0-387e-4326-85fe-b47a0fbcb7b0",
   "metadata": {},
   "outputs": [
    {
     "data": {
      "text/html": [
       "<div>\n",
       "<style scoped>\n",
       "    .dataframe tbody tr th:only-of-type {\n",
       "        vertical-align: middle;\n",
       "    }\n",
       "\n",
       "    .dataframe tbody tr th {\n",
       "        vertical-align: top;\n",
       "    }\n",
       "\n",
       "    .dataframe thead th {\n",
       "        text-align: right;\n",
       "    }\n",
       "</style>\n",
       "<table border=\"1\" class=\"dataframe\">\n",
       "  <thead>\n",
       "    <tr style=\"text-align: right;\">\n",
       "      <th></th>\n",
       "      <th>emp_no</th>\n",
       "      <th>from_date</th>\n",
       "      <th>to_date</th>\n",
       "      <th>work_year</th>\n",
       "    </tr>\n",
       "  </thead>\n",
       "  <tbody>\n",
       "    <tr>\n",
       "      <th>0</th>\n",
       "      <td>10004</td>\n",
       "      <td>1986-12-01</td>\n",
       "      <td>1995-12-01</td>\n",
       "      <td>9</td>\n",
       "    </tr>\n",
       "    <tr>\n",
       "      <th>1</th>\n",
       "      <td>10009</td>\n",
       "      <td>1990-02-18</td>\n",
       "      <td>1995-02-18</td>\n",
       "      <td>5</td>\n",
       "    </tr>\n",
       "    <tr>\n",
       "      <th>2</th>\n",
       "      <td>10012</td>\n",
       "      <td>1992-12-18</td>\n",
       "      <td>2000-12-18</td>\n",
       "      <td>8</td>\n",
       "    </tr>\n",
       "    <tr>\n",
       "      <th>3</th>\n",
       "      <td>10018</td>\n",
       "      <td>1987-04-03</td>\n",
       "      <td>1995-04-03</td>\n",
       "      <td>8</td>\n",
       "    </tr>\n",
       "    <tr>\n",
       "      <th>4</th>\n",
       "      <td>10026</td>\n",
       "      <td>1995-03-20</td>\n",
       "      <td>2001-03-19</td>\n",
       "      <td>5</td>\n",
       "    </tr>\n",
       "    <tr>\n",
       "      <th>...</th>\n",
       "      <td>...</td>\n",
       "      <td>...</td>\n",
       "      <td>...</td>\n",
       "      <td>...</td>\n",
       "    </tr>\n",
       "    <tr>\n",
       "      <th>84015</th>\n",
       "      <td>499972</td>\n",
       "      <td>1989-11-23</td>\n",
       "      <td>1998-11-23</td>\n",
       "      <td>9</td>\n",
       "    </tr>\n",
       "    <tr>\n",
       "      <th>84016</th>\n",
       "      <td>499984</td>\n",
       "      <td>1989-07-30</td>\n",
       "      <td>1994-07-30</td>\n",
       "      <td>5</td>\n",
       "    </tr>\n",
       "    <tr>\n",
       "      <th>84017</th>\n",
       "      <td>499994</td>\n",
       "      <td>1993-02-22</td>\n",
       "      <td>1993-10-27</td>\n",
       "      <td>0</td>\n",
       "    </tr>\n",
       "    <tr>\n",
       "      <th>84018</th>\n",
       "      <td>499996</td>\n",
       "      <td>1996-05-13</td>\n",
       "      <td>2002-05-13</td>\n",
       "      <td>6</td>\n",
       "    </tr>\n",
       "    <tr>\n",
       "      <th>84019</th>\n",
       "      <td>499997</td>\n",
       "      <td>1987-08-30</td>\n",
       "      <td>1992-08-29</td>\n",
       "      <td>4</td>\n",
       "    </tr>\n",
       "  </tbody>\n",
       "</table>\n",
       "<p>84020 rows × 4 columns</p>\n",
       "</div>"
      ],
      "text/plain": [
       "       emp_no   from_date     to_date  work_year\n",
       "0       10004  1986-12-01  1995-12-01          9\n",
       "1       10009  1990-02-18  1995-02-18          5\n",
       "2       10012  1992-12-18  2000-12-18          8\n",
       "3       10018  1987-04-03  1995-04-03          8\n",
       "4       10026  1995-03-20  2001-03-19          5\n",
       "...       ...         ...         ...        ...\n",
       "84015  499972  1989-11-23  1998-11-23          9\n",
       "84016  499984  1989-07-30  1994-07-30          5\n",
       "84017  499994  1993-02-22  1993-10-27          0\n",
       "84018  499996  1996-05-13  2002-05-13          6\n",
       "84019  499997  1987-08-30  1992-08-29          4\n",
       "\n",
       "[84020 rows x 4 columns]"
      ]
     },
     "execution_count": 26,
     "metadata": {},
     "output_type": "execute_result"
    }
   ],
   "source": [
    "# Writting result to variable\n",
    "df_years = pd.read_sql(eng_diff_year, con)\n",
    "\n",
    "#Print the result\n",
    "df_years"
   ]
  },
  {
   "cell_type": "markdown",
   "id": "64ed1d08-0340-4546-b610-0a6b9589ac76",
   "metadata": {},
   "source": [
    "#### 8. Using the data in df_years, create a bar graph of the number of years people with the position title Engineer have been in the position. "
   ]
  },
  {
   "cell_type": "code",
   "execution_count": 28,
   "id": "c47f2e19-d4d2-4590-8c57-c5a1939370a9",
   "metadata": {},
   "outputs": [
    {
     "data": {
      "text/plain": [
       "array([9, 5, 8, 6, 7, 1, 0, 3, 2, 4])"
      ]
     },
     "execution_count": 28,
     "metadata": {},
     "output_type": "execute_result"
    }
   ],
   "source": [
    "# Display unique values in the 'work_year' column to understand the range of years employees have worked\n",
    "df_years['work_year'].unique()"
   ]
  },
  {
   "cell_type": "code",
   "execution_count": 29,
   "id": "92d40f2c-072e-4ed8-a6cd-7936e5d812eb",
   "metadata": {},
   "outputs": [
    {
     "data": {
      "image/png": "[encoded data removed]",
      "text/plain": [
       "<Figure size 640x480 with 1 Axes>"
      ]
     },
     "metadata": {},
     "output_type": "display_data"
    }
   ],
   "source": [
    "# Create a histogram to visualize the distribution of years worked as an engineer\n",
    "df_years['work_year'].hist(\n",
    "    bins=10,              # Divide the range of years into 10 bins for grouping\n",
    "    color='green',        # Set the color of the bars to green\n",
    "    edgecolor='black'     # Add black edges to the bars for better visibility\n",
    ")\n",
    "\n",
    "# Add a title to the histogram to describe the distribution it represents\n",
    "plt.title('Distribution by the number of years of experience as an engineer')\n",
    "\n",
    "# Label the x-axis to indicate it represents the duration of time spent in the position (in years)\n",
    "plt.xlabel('Length of time in the position of an engineer (in years)')\n",
    "\n",
    "# Label the y-axis to show the number of employees for each bin of years worked\n",
    "plt.ylabel('The number of employees');"
   ]
  },
  {
   "cell_type": "code",
   "execution_count": 30,
   "id": "40e90eaf-e58b-4488-9039-5eea7a9ddc66",
   "metadata": {},
   "outputs": [],
   "source": [
    "# Close the database connection to free up resources\n",
    "con.close()"
   ]
  },
  {
   "cell_type": "code",
   "execution_count": null,
   "id": "5231453b-1836-4678-9662-a0e55025e9fd",
   "metadata": {},
   "outputs": [],
   "source": []
  }
 ],
 "metadata": {
  "kernelspec": {
   "display_name": "Python 3 (ipykernel)",
   "language": "python",
   "name": "python3"
  },
  "language_info": {
   "codemirror_mode": {
    "name": "ipython",
    "version": 3
   },
   "file_extension": ".py",
   "mimetype": "text/x-python",
   "name": "python",
   "nbconvert_exporter": "python",
   "pygments_lexer": "ipython3",
   "version": "3.12.4"
  }
 },
 "nbformat": 4,
 "nbformat_minor": 5
}
